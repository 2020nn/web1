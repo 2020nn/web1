{
  "nbformat": 4,
  "nbformat_minor": 0,
  "metadata": {
    "colab": {
      "name": "python-final.ipynb의 사본",
      "provenance": [],
      "collapsed_sections": [],
      "include_colab_link": true
    },
    "kernelspec": {
      "name": "python3",
      "display_name": "Python 3"
    },
    "language_info": {
      "name": "python"
    }
  },
  "cells": [
    {
      "cell_type": "markdown",
      "metadata": {
        "id": "view-in-github",
        "colab_type": "text"
      },
      "source": [
        "<a href=\"https://colab.research.google.com/github/2020nn/web1/blob/main/python_final_ipynb%EC%9D%98_%EC%82%AC%EB%B3%B8.ipynb\" target=\"_parent\"><img src=\"https://colab.research.google.com/assets/colab-badge.svg\" alt=\"Open In Colab\"/></a>"
      ]
    },
    {
      "cell_type": "markdown",
      "metadata": {
        "id": "TQggtlLF-huA"
      },
      "source": [
        "# **파이썬 프로그래밍 기말고사**\n",
        "\n"
      ]
    },
    {
      "cell_type": "markdown",
      "metadata": {
        "id": "OtG7xx1d_S9S"
      },
      "source": [
        "기말 고사 유의 사항\n",
        "\n",
        "1. 문제의 답안을 함수로 작성하되, 반드시 함수 이름은 문제에서 제시하는 함수명으로 할것 (답안은 함수만 정의해서 제출해도 됨)\n",
        "1. 함수에는 함수의 매개변수 입력과 반환이 반드시 있어야 함\n",
        "1. 코드 작성이 끝난 파일은 개별적으로 함수를 호출해서 검수를 거쳐 정답이 맞는지 확인할 것\n",
        "1. 작성된 답안은 상단 메뉴의 파일--> 다운로드 --> .py 로 다운 받아 학교 LMS 에 제출할 것\n",
        "1. .py 가 학교 LMS 에 올라가지 않을경우 ZIP으로 압축하여 업로드 가능\n",
        "1. 파일의 이름은 자신의 학번.py      예) 학번이 2021111000 일 경우,     2021111000.py 파일을 제출\n",
        "1. 본 시험지를 그대로 제출하면 기본 점수 획득 가능 ( 제출 점수 10점)\n",
        "1. 코드는 자동 채점이 되며, 코드의 유사도 검증을 통해 코드가 타 학생과 유사도가 높을 경우 감점 (절대로 문제의 답안을 타 학생과 공유 금지)"
      ]
    },
    {
      "cell_type": "markdown",
      "metadata": {
        "id": "G8s27iEOeMOd"
      },
      "source": [
        "# 문제 1) - 8점"
      ]
    },
    {
      "cell_type": "markdown",
      "metadata": {
        "id": "lhpvyiXLeu-1"
      },
      "source": [
        "\n",
        "<strong>* 하나의 정수를 함수의 입력으로 받아, 이 정수가 홀수 인지 짝수 인지를 판별하여 짝수이면 \"짝\", 홀수 이면 \"홀\"이라는 문자열을 반환하는 함수를 작성하시오</strong>\n",
        "\n",
        "\n",
        "* 예1) \n",
        " * 입력(정수) : 2 <br>\n",
        " * 반환(문자열) : \"짝\"\n",
        "\n",
        "\n",
        "* 예2)\n",
        " * 입력(정수): 3 <br>\n",
        " * 반환(문자열): \"홀\"\n",
        "\n",
        "\n",
        "\n",
        "\n",
        "* 함수 이름: exam1<br>      (반드시 함수 이름을 exam1로 작성할것!!)\n",
        "\n",
        "* 함수 작성 힌트 <br>\n",
        "\n",
        "\n",
        "\n",
        "```\n",
        "def exam1(a):\n",
        "    b = a가 짝수라면 \"짝\"이라는 문자열을 대입\n",
        "    return b\n",
        "```"
      ]
    },
    {
      "cell_type": "code",
      "metadata": {
        "id": "cb4AtnIZIGyA",
        "colab": {
          "base_uri": "https://localhost:8080/"
        },
        "outputId": "45b9660b-e14a-45bf-f99c-1d6862385a2f"
      },
      "source": [
        "###### 1번 문제 답안 작성\n",
        "\n",
        "exam1 = int(input(\"숫자를 입력하세요: \"))\n",
        "\n",
        "if exam1 % 2 == 0:\n",
        "  print(\"입력한 숫자 %d는 짝수입니다.\" %(exam1))\n",
        "else:\n",
        "  print(\"입력한 숫자 %d는 홀수입니다.\" %(exam1))\n",
        "\n"
      ],
      "execution_count": null,
      "outputs": [
        {
          "output_type": "stream",
          "text": [
            "숫자를 입력하세요: 4\n",
            "입력한 숫자 4는 짝수입니다.\n"
          ],
          "name": "stdout"
        }
      ]
    },
    {
      "cell_type": "markdown",
      "metadata": {
        "id": "X1GukuNA-vPR"
      },
      "source": [
        "## 문제 2) - 8점"
      ]
    },
    {
      "cell_type": "markdown",
      "metadata": {
        "id": "kK4fr_Gm5oCl"
      },
      "source": [
        "<strong> * 하나의 리스트를 함수의 매개변수 입력으로 넣으면, 리스트안의 중복을 제거한 다음 중복 제거된 리스트를 반환하는 함수를 작성하세요.</strong>\n",
        "\n",
        "* 예1) \n",
        " * 입력(리스트) : [1,2,1,1,1] <br>\n",
        " * 반환(리스트) : [1,2]\n",
        "\n",
        "\n",
        "* 예2)\n",
        "\n",
        " * 입력(리스트): [3,3,4,5] <br>\n",
        " * 반환(리스트): [3,4,5]\n",
        "\n",
        "\n",
        "\n",
        "\n",
        "* 함수 이름: exam2 <br>      (반드시 함수 이름을 exam2로 작성할것!!)\n",
        "\n",
        "* 함수 작성 힌트 <br>\n",
        "\n",
        "\n",
        "\n",
        "```\n",
        "def exam2(a):\n",
        "    b = a리스트의 중복제거한 리스트\n",
        "    return b\n",
        "```\n",
        "\n",
        "\n",
        "\n"
      ]
    },
    {
      "cell_type": "code",
      "metadata": {
        "id": "kX9xY63-5j5p",
        "colab": {
          "base_uri": "https://localhost:8080/"
        },
        "outputId": "8a831b42-0996-4f9c-93a3-f6f0251bd046"
      },
      "source": [
        "my_list=[1,2,1,1,1,3,3,4,5]\n",
        "\n",
        "exam2 = []\n",
        "\n",
        "for v in my_list:\n",
        "    if v not in exam2:\n",
        "        exam2.append(v)\n",
        "        \n",
        "print(exam2)\n",
        "print(type(exam2))\n",
        "\n",
        "\n"
      ],
      "execution_count": null,
      "outputs": [
        {
          "output_type": "stream",
          "text": [
            "[1, 2, 3, 4, 5]\n",
            "<class 'list'>\n"
          ],
          "name": "stdout"
        }
      ]
    },
    {
      "cell_type": "markdown",
      "metadata": {
        "id": "EnqoaId9BzIm"
      },
      "source": [
        "## 문제 3) - 8점"
      ]
    },
    {
      "cell_type": "markdown",
      "metadata": {
        "id": "smtRGTyPBqxk"
      },
      "source": [
        "<strong> 2부터 9까지의 숫자중 하나를 함수의 매개변수 입력으로 넣으면, 구구단의 결과를 리스트로 반환하는 함수를 작성하시오</strong> \n",
        "\n",
        "* 예1)\n",
        "\n",
        "  * 입력(정수) : 2\n",
        "  * 반환(리스트) : [2,4,6,8,10,12,14,16,18]\n",
        "\n",
        "* 예2)\n",
        "\n",
        " * 입력(정수): 3\n",
        " * 반환(리스트): [3,6,9,12,15,18,21,24,27]\n",
        "\n",
        "* 함수 이름: exam3\n",
        "(반드시 함수 이름을 exam3로 작성할것!!)\n",
        "\n",
        "* 함수 작성 힌트\n",
        "\n",
        "\n",
        "\n",
        "```\n",
        "def exam3(a):\n",
        "    b = a단에 대한 구구단 결과 리스트\n",
        "    return b\n",
        "```\n",
        "\n"
      ]
    },
    {
      "cell_type": "code",
      "metadata": {
        "id": "FS8nRvcNG8QR",
        "colab": {
          "base_uri": "https://localhost:8080/"
        },
        "outputId": "8d88bbe5-2ced-40c7-c739-105809c0664a"
      },
      "source": [
        "#### 3번 문제 답안 작성\n",
        "def exam3(m):\n",
        "    for n in range(1, 10):\n",
        "        print(f'{m} * {n} = {m*n:2d}')\n",
        "\n",
        "if __name__ == '__main__':\n",
        "    for i in range(2, 10):\n",
        "        exam3(i)\n",
        "        print()\n"
      ],
      "execution_count": null,
      "outputs": [
        {
          "output_type": "stream",
          "text": [
            "2 * 1 =  2\n",
            "2 * 2 =  4\n",
            "2 * 3 =  6\n",
            "2 * 4 =  8\n",
            "2 * 5 = 10\n",
            "2 * 6 = 12\n",
            "2 * 7 = 14\n",
            "2 * 8 = 16\n",
            "2 * 9 = 18\n",
            "\n",
            "3 * 1 =  3\n",
            "3 * 2 =  6\n",
            "3 * 3 =  9\n",
            "3 * 4 = 12\n",
            "3 * 5 = 15\n",
            "3 * 6 = 18\n",
            "3 * 7 = 21\n",
            "3 * 8 = 24\n",
            "3 * 9 = 27\n",
            "\n",
            "4 * 1 =  4\n",
            "4 * 2 =  8\n",
            "4 * 3 = 12\n",
            "4 * 4 = 16\n",
            "4 * 5 = 20\n",
            "4 * 6 = 24\n",
            "4 * 7 = 28\n",
            "4 * 8 = 32\n",
            "4 * 9 = 36\n",
            "\n",
            "5 * 1 =  5\n",
            "5 * 2 = 10\n",
            "5 * 3 = 15\n",
            "5 * 4 = 20\n",
            "5 * 5 = 25\n",
            "5 * 6 = 30\n",
            "5 * 7 = 35\n",
            "5 * 8 = 40\n",
            "5 * 9 = 45\n",
            "\n",
            "6 * 1 =  6\n",
            "6 * 2 = 12\n",
            "6 * 3 = 18\n",
            "6 * 4 = 24\n",
            "6 * 5 = 30\n",
            "6 * 6 = 36\n",
            "6 * 7 = 42\n",
            "6 * 8 = 48\n",
            "6 * 9 = 54\n",
            "\n",
            "7 * 1 =  7\n",
            "7 * 2 = 14\n",
            "7 * 3 = 21\n",
            "7 * 4 = 28\n",
            "7 * 5 = 35\n",
            "7 * 6 = 42\n",
            "7 * 7 = 49\n",
            "7 * 8 = 56\n",
            "7 * 9 = 63\n",
            "\n",
            "8 * 1 =  8\n",
            "8 * 2 = 16\n",
            "8 * 3 = 24\n",
            "8 * 4 = 32\n",
            "8 * 5 = 40\n",
            "8 * 6 = 48\n",
            "8 * 7 = 56\n",
            "8 * 8 = 64\n",
            "8 * 9 = 72\n",
            "\n",
            "9 * 1 =  9\n",
            "9 * 2 = 18\n",
            "9 * 3 = 27\n",
            "9 * 4 = 36\n",
            "9 * 5 = 45\n",
            "9 * 6 = 54\n",
            "9 * 7 = 63\n",
            "9 * 8 = 72\n",
            "9 * 9 = 81\n",
            "\n"
          ],
          "name": "stdout"
        }
      ]
    },
    {
      "cell_type": "markdown",
      "metadata": {
        "id": "8uQNXmPWHHGN"
      },
      "source": [
        "## 문제 4) - 8점"
      ]
    },
    {
      "cell_type": "markdown",
      "metadata": {
        "id": "PLsesGlrHyvc"
      },
      "source": [
        "<strong>다음 데이터를 함수 내에 딕셔너리 형태로 저장한 다음, 함수의 매개변수 입력으로 딕셔너리의 키에 해당하는 문자열을 받으면, 키에 해당하는 값을 반환하는 함수를 작성하시오. </strong>\n",
        "\n",
        "함수내 저장해야하는 데이터\n",
        "\n",
        "```\n",
        "phones = {\"S5\": 2014, \"S7\": 2016, \"note8\": 2017, \"S9\": 2018, \"S10\": 2019}\n",
        "```\n",
        "\n",
        "* 예1)<br>\n",
        "\n",
        " * 입력(문자열) : \"S5\"<br>\n",
        " * 반환(정수) : 2014<br>\n",
        "\n",
        "* 예2)<br>\n",
        "\n",
        " * 입력(문자열) : \"S7\"<br>\n",
        " * 반환(정수) : 2016<br>\n",
        "\n",
        "* 함수 이름: exam4  <br>\n",
        "(반드시 함수 이름을 exam4로 작성할것!!)<br>\n",
        "\n",
        "* 함수 작성 힌트\n",
        "\n",
        "```\n",
        "def exam4(a):\n",
        "    b = a의 키(key)값에 해당하는 값(value)\n",
        "    return b\n",
        "```"
      ]
    },
    {
      "cell_type": "code",
      "metadata": {
        "id": "71qGTeWEW14L",
        "colab": {
          "base_uri": "https://localhost:8080/"
        },
        "outputId": "ae837ed9-b2c5-4869-b3ec-9aef75552e0c"
      },
      "source": [
        "#### 4번 문제 답안 작성\n",
        "phones = {\"S5\": 2014, \"S7\": 2016, \"note8\": 2017, \"S9\": 2018, \"S10\": 2019}\n",
        "phones.values() "
      ],
      "execution_count": null,
      "outputs": [
        {
          "output_type": "execute_result",
          "data": {
            "text/plain": [
              "dict_values([2014, 2016, 2017, 2018, 2019])"
            ]
          },
          "metadata": {
            "tags": []
          },
          "execution_count": 2
        }
      ]
    },
    {
      "cell_type": "markdown",
      "metadata": {
        "id": "ApVnFiekZWbv"
      },
      "source": [
        "## 문제5) - 8점"
      ]
    },
    {
      "cell_type": "markdown",
      "metadata": {
        "id": "AOx7f5T9ZzH8"
      },
      "source": [
        "<strong>주민등록번호 13자리를 문자열로 입력 받아, 받은 주민번호를 기반으로 남성인지 여성인지를 판별하여 반환하는 함수를 작성하시오. </strong><br>\n",
        "\n",
        "입력 문자열은 \"주민번호 앞자리 - 뒷자리\"로 구성됨<br>\n",
        "반환 문자열은 \"남성\", \"여성\" 둘중 하나<br>\n",
        "<br>\n",
        "\n",
        "주민번호 뒷자리중 첫번째 숫자가 1이면 남성, 2이면 여성\n",
        "\n",
        "* 예1)<br>\n",
        "\n",
        "  * 입력(문자열) : \"820327-1022421\"<br>\n",
        "  * 반환(문자열) : \"남성\"<br>\n",
        "\n",
        "* 예2)\n",
        "\n",
        " * 입력(문자열) : \"820327-2022421\"<br>\n",
        " * 반환(문자열) : \"여성\"<br>\n",
        "\n",
        "* 함수 이름: exam5\n",
        "(반드시 함수 이름을 exam5로 작성할것!!)\n",
        "\n",
        "* 함수 작성 힌트\n",
        "\n",
        "\n",
        "```\n",
        "\n",
        "def exam5(a):\n",
        "    b = a 주민번호를 판별후 \"남성\", \"여성\" 이라는 문자열 둘 중 하나를 대입 (문자열을 -을 기준으로 split)\n",
        "    return b\n",
        "```\n",
        "\n"
      ]
    },
    {
      "cell_type": "code",
      "metadata": {
        "id": "N1DpVBJmIs_L",
        "colab": {
          "base_uri": "https://localhost:8080/"
        },
        "outputId": "a5d64c64-e4d7-4383-bfd2-3a229504e7ca"
      },
      "source": [
        "exam5 = input(\"주민등록번호 입력\")\n",
        "exam5.split(\"-\")\n",
        "gender = int(exam5.split(\"-\")[1][0])\n",
        "\n",
        "if gender == 1:\n",
        "    print(\"남성\")\n",
        "elif gender == 2:\n",
        "    print(\"여성\")\n",
        "else:\n",
        "    print(\"다시 입력해주세요.\")\n"
      ],
      "execution_count": null,
      "outputs": [
        {
          "output_type": "stream",
          "text": [
            "주민등록번호 입력870201-1044444\n",
            "남성\n"
          ],
          "name": "stdout"
        }
      ]
    },
    {
      "cell_type": "markdown",
      "metadata": {
        "id": "R9k6o23RMER4"
      },
      "source": [
        "## 문제 6) - 8점"
      ]
    },
    {
      "cell_type": "markdown",
      "metadata": {
        "id": "IQWD9SCNhgHP"
      },
      "source": [
        "<strong>하나의 정수를 함수의 매개변수 입력으로 받아, 이 정수를 제곱한 결과를 반환하는 함수를 작성하시오. </strong><br>\n",
        "\n",
        "\n",
        "\n",
        "* 예1)<br>\n",
        "\n",
        "  * 입력(정수) : 2<br>\n",
        "  * 반환(정수) : 4<br>\n",
        "\n",
        "* 예2)\n",
        "\n",
        " * 입력(정수) : 3<br>\n",
        " * 반환(정수) : 9<br>\n",
        "\n",
        "* 함수 이름: exam6\n",
        "(반드시 함수 이름을 exam6로 작성할것!!)\n",
        "\n",
        "* 함수 작성 힌트\n",
        "\n",
        "\n",
        "```\n",
        "\n",
        "def exam6(a):\n",
        "    b = a를 제곱한 결과\n",
        "    return b\n",
        "```"
      ]
    },
    {
      "cell_type": "code",
      "metadata": {
        "id": "BUjtiJV_iikS",
        "colab": {
          "base_uri": "https://localhost:8080/"
        },
        "outputId": "d2d04f75-ec1b-4f0d-c9e8-2a46017f4989"
      },
      "source": [
        "a = int(input(\"제곱을 구할 값을 입력하세요 : \")) \n",
        "print(a, \"의 제곱 = \", a**2)\n",
        "\n",
        "\n",
        "\n",
        "\n"
      ],
      "execution_count": 11,
      "outputs": [
        {
          "output_type": "stream",
          "text": [
            "제곱을 구할 값을 입력하세요 : 2\n",
            "2 의 제곱 =  4\n",
            "제곱을 구할 값을 입력하세요 : 4\n",
            "4 의 제곱 =  16\n"
          ],
          "name": "stdout"
        }
      ]
    },
    {
      "cell_type": "markdown",
      "metadata": {
        "id": "4-41iqJ5W1r1"
      },
      "source": [
        "## 문제 7) - 8점  +++ 내장함수를 사용하지 않고, 문제를 풀 경우 + 10점 (총 18점)"
      ]
    },
    {
      "cell_type": "markdown",
      "metadata": {
        "id": "kqoNGOnfXd1T"
      },
      "source": [
        "\n",
        "<strong>정수로 이루어진 하나의 리스트를 함수의 매개변수 입력으로 받아, 이 리스트 안의 데이터를 오름차순으로 정렬하여 반환하는 함수를 작성하시오 </strong><br>\n",
        "\n",
        "\n",
        "\n",
        "* 예1)<br>\n",
        "\n",
        "  * 입력(리스트) : [10,3,8,7]<br>\n",
        "  * 반환(리스트) : [3,7,8,10]<br>\n",
        "\n",
        "* 예2)<br>\n",
        "\n",
        " * 입력(리스트) : [4,3,2,1]<br>\n",
        " * 반환(리스트) : [1,2,3,4]<br>\n",
        "\n",
        "* 함수 이름: exam7\n",
        "(반드시 함수 이름을 exam7로 작성할것!!)\n",
        "\n",
        "* 함수 작성 힌트\n",
        "\n",
        "\n",
        "```\n",
        "\n",
        "def exam7(a):\n",
        "    b = a 리스트를 오름차순 (리스트 오름차순을 하는 내장함수를 이용 or 직접 오른차순 구현부를 작성)\n",
        "    return b\n",
        "```"
      ]
    },
    {
      "cell_type": "code",
      "metadata": {
        "id": "4pdCE84Fe9Ce",
        "colab": {
          "base_uri": "https://localhost:8080/"
        },
        "outputId": "b32f3942-e30f-49d9-90f7-9740b733de51"
      },
      "source": [
        "exam7 = [10,3,8,7,4,3,2,1]\n",
        "exam7.sort()\n",
        "print(exam7)\n"
      ],
      "execution_count": 13,
      "outputs": [
        {
          "output_type": "stream",
          "text": [
            "[1, 2, 3, 3, 4, 7, 8, 10]\n"
          ],
          "name": "stdout"
        }
      ]
    },
    {
      "cell_type": "markdown",
      "metadata": {
        "id": "6gmPtFuZeqIj"
      },
      "source": [
        "## 문제 8 - 8점"
      ]
    },
    {
      "cell_type": "markdown",
      "metadata": {
        "id": "mNSyCPn-fGBy"
      },
      "source": [
        "<strong>원의 반지름을 함수의 매개변수 입력으로 받아, 원의 넓이를 반환하는 함수를 작성하시오 </strong><br>\n",
        "\n",
        "원의 넓이를 구하는 공식 = 반지름 * 반지름 * 3.14\n",
        "\n",
        "* 예1)<br>\n",
        "\n",
        "  * 입력(정수) : 2<br>\n",
        "  * 반환(실수) : 12.56<br>\n",
        "\n",
        "* 예2)<br>\n",
        "\n",
        " * 입력(정수) : 3<br>\n",
        " * 반환(실수) : 28.26<br>\n",
        "\n",
        "* 함수 이름: exam8\n",
        "(반드시 함수 이름을 exam8로 작성할것!!)\n",
        "\n",
        "* 함수 작성 힌트\n",
        "\n",
        "\n",
        "```\n",
        "\n",
        "def exam8(a):\n",
        "    b = a를 반지름으로 하는 원의 넓이 (반지름 * 반지름 * 3.14)\n",
        "    return b\n",
        "```"
      ]
    },
    {
      "cell_type": "code",
      "metadata": {
        "id": "tFpu6fEehCG6",
        "colab": {
          "base_uri": "https://localhost:8080/"
        },
        "outputId": "8869ef2c-b78a-4a45-fdf8-c16b75cc3f44"
      },
      "source": [
        "exam8 = float(input(\"반지름을 입력하세요:\"))\n",
        "area=3.14*exam8**2\n",
        "\n",
        "print(\"원의 넓이=\",area)\n",
        "\n",
        "\n",
        "\n",
        "\n"
      ],
      "execution_count": 14,
      "outputs": [
        {
          "output_type": "stream",
          "text": [
            "반지름을 입력하세요:3\n",
            "원의 넓이= 28.26\n"
          ],
          "name": "stdout"
        }
      ]
    },
    {
      "cell_type": "markdown",
      "metadata": {
        "id": "_6nwI88OhsBI"
      },
      "source": [
        "## 문제 9)  - 8점"
      ]
    },
    {
      "cell_type": "markdown",
      "metadata": {
        "id": "pxTuZRhohj7h"
      },
      "source": [
        "휴대전화 번호를 문자열 형태로 함수의 매개변수로 입력 받으면, 휴대전화 4개의 뒷자리를 ####으로 바꾸어 반환하는 함수를 작성하시오.\n",
        "\n",
        "\n",
        "\n",
        "예1) <br>\n",
        "\n",
        "입력(문자열) : \"010-3222-1234\"<br>\n",
        "반환(문자열) : \"010-3222-####\"<br>\n",
        "\n",
        "예2)<br>\n",
        "\n",
        "입력(문자열) : \"010-1221-0984\"<br>\n",
        "반환(문자열) : \"010-1221-####\"<br>\n",
        "함수 이름: exam9 (반드시 함수 이름을 exam9로 작성할것!!)<br>\n",
        "\n",
        "함수 작성 힌트\n",
        "\n",
        "```\n",
        "\n",
        "def exam9(a):\n",
        "    b = a 문자열을 -을 기준으로 split 하여 맨 뒷자리를 수정할 것\n",
        "    return b\n",
        "```"
      ]
    },
    {
      "cell_type": "code",
      "metadata": {
        "id": "sLhBSwBMleAX",
        "colab": {
          "base_uri": "https://localhost:8080/"
        },
        "outputId": "a0a8f66e-e9ad-46d1-9c6a-719932ebba17"
      },
      "source": [
        "\n",
        "\n",
        "def hide_numbers(s):\n",
        "    return s[:7] + '#' * (len(s[7:]))\n",
        "\n",
        "\n",
        "\n",
        "print(\"결과 : \" + hide_numbers('01033334444'))\n",
        "\n",
        "\n",
        "\n",
        "\n",
        "\n",
        "\n",
        "\n",
        "\n",
        "\n"
      ],
      "execution_count": 6,
      "outputs": [
        {
          "output_type": "stream",
          "text": [
            "결과 : 0103333####\n"
          ],
          "name": "stdout"
        }
      ]
    },
    {
      "cell_type": "markdown",
      "metadata": {
        "id": "y8wpZYPsli87"
      },
      "source": [
        "## 문제 10) - 8점"
      ]
    },
    {
      "cell_type": "markdown",
      "metadata": {
        "id": "-q7Zvh2clp73"
      },
      "source": [
        "<strong>하나의 리스트를 매개변수 입력으로 받아, 리스트안의 데이터의 평균 값을 구해 실수로 반환하는 함수를 작성하시오.</strong>\n",
        "\n",
        "\n",
        "\n",
        "예1) <br>\n",
        "\n",
        "입력(리스트) : [1,2,3,4] <br>\n",
        "반환(실수) : 2.5 <br>\n",
        "\n",
        "예2)<br>\n",
        "\n",
        "입력(리스트) : [2,4,6,8,10] <br>\n",
        "반환(실수) : 6.0 <br>\n",
        "함수 이름: exam10 (반드시 함수 이름을 exam10로 작성할것!!)<br>\n",
        "\n",
        "함수 작성 힌트\n",
        "\n",
        "```\n",
        "\n",
        "def exam10(a):\n",
        "    b = a 리스트의 모든 데이터를 평균한 값\n",
        "    return b\n",
        "```"
      ]
    },
    {
      "cell_type": "code",
      "metadata": {
        "id": "yMcdEi7LlpIF",
        "colab": {
          "base_uri": "https://localhost:8080/"
        },
        "outputId": "2e68d8ac-1321-4694-f0d1-e15070e47afc"
      },
      "source": [
        "exam10 = [1, 2, 3, 7]\n",
        "print( sum(exam10)/len(exam10) ) \n"
      ],
      "execution_count": 17,
      "outputs": [
        {
          "output_type": "stream",
          "text": [
            "3.25\n"
          ],
          "name": "stdout"
        }
      ]
    }
  ]
}